{
 "cells": [
  {
   "cell_type": "code",
   "execution_count": null,
   "metadata": {},
   "outputs": [],
   "source": [
    "# Import necessary modules and classes\n",
    "from langchain.schema import Document  # Represents a document with content and metadata\n",
    "from langchain_openai import OpenAIEmbeddings  # Provides embeddings using OpenAI models\n",
    "from langchain_community.vectorstores import Chroma  # A vector store for document retrieval\n",
    "\n",
    "# Initialize the embedding function using OpenAI models\n",
    "embedding_function = OpenAIEmbeddings()\n",
    "\n",
    "# Define a list of documents with their content and metadata\n",
    "docs = [\n",
    "    Document(\n",
    "        page_content=\"Peak Performance Gym was founded in 2015 by former Olympic athlete Marcus Chen. With over 15 years of experience in professional athletics, Marcus established the gym to provide personalized fitness solutions for people of all levels. The gym spans 10,000 square feet and features state-of-the-art equipment.\",\n",
    "        metadata={\"source\": \"about.txt\"}\n",
    "    ),\n",
    "    Document(\n",
    "        page_content=\"Peak Performance Gym is open Monday through Friday from 5:00 AM to 11:00 PM. On weekends, our hours are 7:00 AM to 9:00 PM. We remain closed on major national holidays. Members with Premium access can enter using their key cards 24/7, including holidays.\",\n",
    "        metadata={\"source\": \"hours.txt\"}\n",
    "    ),\n",
    "    Document(\n",
    "        page_content=\"Our membership plans include: Basic (₹1,500/month) with access to gym floor and basic equipment; Standard (₹2,500/month) adds group classes and locker facilities; Premium (₹4,000/month) includes 24/7 access, personal training sessions, and spa facilities. We offer student and senior citizen discounts of 15% on all plans. Corporate partnerships are available for companies with 10+ employees joining.\",\n",
    "        metadata={\"source\": \"membership.txt\"}\n",
    "    ),\n",
    "    Document(\n",
    "        page_content=\"Group fitness classes at Peak Performance Gym include Yoga (beginner, intermediate, advanced), HIIT, Zumba, Spin Cycling, CrossFit, and Pilates. Beginner classes are held every Monday and Wednesday at 6:00 PM. Intermediate and advanced classes are scheduled throughout the week. The full schedule is available on our mobile app or at the reception desk.\",\n",
    "        metadata={\"source\": \"classes.txt\"}\n",
    "    ),\n",
    "    Document(\n",
    "        page_content=\"Personal trainers at Peak Performance Gym are all certified professionals with minimum 5 years of experience. Each new member receives a complimentary fitness assessment and one free session with a trainer. Our head trainer, Neha Kapoor, specializes in rehabilitation fitness and sports-specific training. Personal training sessions can be booked individually (₹800/session) or in packages of 10 (₹7,000) or 20 (₹13,000).\",\n",
    "        metadata={\"source\": \"trainers.txt\"}\n",
    "    ),\n",
    "    Document(\n",
    "        page_content=\"Peak Performance Gym's facilities include a cardio zone with 30+ machines, strength training area, functional fitness space, dedicated yoga studio, spin class room, swimming pool (25m), sauna and steam rooms, juice bar, and locker rooms with shower facilities. Our equipment is replaced or upgraded every 3 years to ensure members have access to the latest fitness technology.\",\n",
    "        metadata={\"source\": \"facilities.txt\"}\n",
    "    )\n",
    "]\n",
    "\n",
    "# Create a Chroma vector store from the documents using the embedding function\n",
    "db = Chroma.from_documents(docs, embedding_function)"
   ]
  },
  {
   "cell_type": "code",
   "execution_count": null,
   "metadata": {},
   "outputs": [],
   "source": [
    "# Initialize a retriever from the vector store\n",
    "retriever = db.as_retriever(search_type=\"mmr\", search_kwargs={\"k\": 3})  # Use Maximal Marginal Relevance (MMR) to retrieve top 3 relevant documents"
   ]
  },
  {
   "cell_type": "code",
   "execution_count": null,
   "metadata": {},
   "outputs": [],
   "source": [
    "# Query the retriever with a question\n",
    "retriever.invoke(\"Who founded the gym and what are the timings?\")  # Retrieve relevant documents based on the query"
   ]
  },
  {
   "cell_type": "code",
   "execution_count": null,
   "metadata": {},
   "outputs": [],
   "source": [
    "# Import the ChatPromptTemplate for creating prompts\n",
    "from langchain_core.prompts import ChatPromptTemplate\n",
    "\n",
    "# Define a template for the question-answering task\n",
    "template = \"\"\" \n",
    "Answer the question based only on the following context: {context}\n",
    "Question: {question}\n",
    "\"\"\"\n",
    "\n",
    "# Create a prompt template from the defined template\n",
    "prompt = ChatPromptTemplate.from_template(template)"
   ]
  },
  {
   "cell_type": "code",
   "execution_count": null,
   "metadata": {},
   "outputs": [
    {
     "data": {
      "text/plain": [
       "'The owner mentioned is Antonio Rossi, who owns Bella Vesta. The timings provided are for Peak Performance Gym, which is open Monday through Friday from 5:00 AM to 11:00 PM and on weekends from 7:00 AM to 9:00 PM. The gym is closed on major national holidays, but members with Premium access can enter 24/7 using their key cards, including holidays.'"
      ]
     },
     "execution_count": 33,
     "metadata": {},
     "output_type": "execute_result"
    }
   ],
   "source": [
    "# Import necessary modules for output parsing and LLM interaction\n",
    "from langchain_core.output_parsers import StrOutputParser  # Parses the output into a string\n",
    "from langchain_openai import ChatOpenAI  # Provides access to OpenAI's chat models\n",
    "\n",
    "# Initialize the language model with a specific configuration\n",
    "llm = ChatOpenAI(model=\"gpt-4o\")\n",
    "\n",
    "# Define a function to format documents into a single string\n",
    "def format_docs(docs): \n",
    "    return \"\\n\\n\".join(doc.page_content for doc in docs)  # Concatenate document content with double newlines\n",
    "\n",
    "# Create a question-answering chain\n",
    "qa_chain = (\n",
    "    {\n",
    "        \"context\": lambda x: format_docs(retriever.invoke(x)),  # Format retrieved documents as context\n",
    "        \"question\": lambda x: x  # Pass the input question directly\n",
    "    }\n",
    "    | prompt  # Use the defined prompt template\n",
    "    | llm  # Use the language model for generating answers\n",
    "    | StrOutputParser()  # Parse the output into a string\n",
    ")\n",
    "\n",
    "# Invoke the QA chain with a specific question\n",
    "qa_chain.invoke(\"Who is the owner and what are the timings?\")  # Generate an answer based on the question and context"
   ]
  }
 ],
 "metadata": {
  "kernelspec": {
   "display_name": "venv",
   "language": "python",
   "name": "python3"
  },
  "language_info": {
   "codemirror_mode": {
    "name": "ipython",
    "version": 3
   },
   "file_extension": ".py",
   "mimetype": "text/x-python",
   "name": "python",
   "nbconvert_exporter": "python",
   "pygments_lexer": "ipython3",
   "version": "3.12.0"
  }
 },
 "nbformat": 4,
 "nbformat_minor": 2
}
