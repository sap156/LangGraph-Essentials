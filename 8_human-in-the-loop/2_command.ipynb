{
 "cells": [
  {
   "cell_type": "code",
   "execution_count": null,
   "metadata": {},
   "outputs": [
    {
     "name": "stdout",
     "output_type": "stream",
     "text": [
      "Node A\n",
      "Node B\n",
      "Node C\n"
     ]
    },
    {
     "data": {
      "text/plain": [
       "{'text': 'abc'}"
      ]
     },
     "execution_count": 1,
     "metadata": {},
     "output_type": "execute_result"
    }
   ],
   "source": [
    "# Import necessary modules and classes\n",
    "from langgraph.graph import StateGraph, START, END  # StateGraph manages the state machine, START and END are predefined states\n",
    "from langgraph.types import Command  # Command is used to define transitions and state updates\n",
    "from typing import TypedDict  # TypedDict is used to define structured types\n",
    "\n",
    "# Define the structure of the state used in the state machine\n",
    "class State(TypedDict):\n",
    "    text: str  # The state contains a single field 'text' which is a string\n",
    "\n",
    "# Define the first node in the state machine\n",
    "def node_a(state: State): \n",
    "    print(\"Node A\")  # Log the current node\n",
    "    return Command(\n",
    "        goto=\"node_b\",  # Transition to 'node_b'\n",
    "        update={\n",
    "            \"text\": state[\"text\"] + \"a\"  # Append 'a' to the state's 'text' field\n",
    "        }\n",
    "    )\n",
    "\n",
    "# Define the second node in the state machine\n",
    "def node_b(state: State): \n",
    "    print(\"Node B\")  # Log the current node\n",
    "    return Command(\n",
    "        goto=\"node_c\",  # Transition to 'node_c'\n",
    "        update={\n",
    "            \"text\": state[\"text\"] + \"b\"  # Append 'b' to the state's 'text' field\n",
    "        }\n",
    "    )\n",
    "\n",
    "# Define the third and final node in the state machine\n",
    "def node_c(state: State): \n",
    "    print(\"Node C\")  # Log the current node\n",
    "    return Command(\n",
    "        goto=END,  # Transition to the END state\n",
    "        update={\n",
    "            \"text\": state[\"text\"] + \"c\"  # Append 'c' to the state's 'text' field\n",
    "        }\n",
    "    )\n",
    "\n",
    "# Create a state graph to manage the workflow\n",
    "graph = StateGraph(State)\n",
    "\n",
    "# Add nodes to the state graph, each representing a state and its associated function\n",
    "graph.add_node(\"node_a\", node_a)\n",
    "graph.add_node(\"node_b\", node_b)\n",
    "graph.add_node(\"node_c\", node_c)\n",
    "\n",
    "# Set the entry point of the state graph\n",
    "graph.set_entry_point(\"node_a\")\n",
    "\n",
    "# Compile the state graph into an executable application\n",
    "app = graph.compile()\n",
    "\n",
    "# Invoke the application with an initial state\n",
    "response = app.invoke({\n",
    "    \"text\": \"\"  # Start with an empty 'text' field\n",
    "})\n",
    "\n",
    "# Display the final response\n",
    "response"
   ]
  }
 ],
 "metadata": {
  "kernelspec": {
   "display_name": "venv",
   "language": "python",
   "name": "python3"
  },
  "language_info": {
   "codemirror_mode": {
    "name": "ipython",
    "version": 3
   },
   "file_extension": ".py",
   "mimetype": "text/x-python",
   "name": "python",
   "nbconvert_exporter": "python",
   "pygments_lexer": "ipython3",
   "version": "3.12.0"
  }
 },
 "nbformat": 4,
 "nbformat_minor": 2
}
