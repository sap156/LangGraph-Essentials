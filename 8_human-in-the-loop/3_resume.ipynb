{
 "cells": [
  {
   "cell_type": "code",
   "execution_count": null,
   "metadata": {},
   "outputs": [
    {
     "name": "stdout",
     "output_type": "stream",
     "text": [
      "Node A\n",
      "Node B\n"
     ]
    },
    {
     "data": {
      "text/plain": [
       "[{'node_a': {'value': 'a'}},\n",
       " {'__interrupt__': (Interrupt(value='Do you want to go to C or D? Type C/D', resumable=True, ns=['node_b:edbd727d-66fc-06b6-aa8f-17ca3c7d6ac9'], when='during'),)}]"
      ]
     },
     "execution_count": 17,
     "metadata": {},
     "output_type": "execute_result"
    }
   ],
   "source": [
    "# Import necessary modules and classes\n",
    "from langgraph.graph import StateGraph, START, END  # StateGraph manages the state machine, START and END are predefined states\n",
    "from langgraph.types import Command, interrupt  # Command defines transitions and state updates, interrupt allows human intervention\n",
    "from typing import TypedDict  # TypedDict is used to define structured types\n",
    "from langgraph.checkpoint.memory import MemorySaver  # MemorySaver is used to save and resume state checkpoints\n",
    "\n",
    "# Initialize a memory saver for checkpointing\n",
    "memory = MemorySaver()\n",
    "\n",
    "# Define the structure of the state used in the state machine\n",
    "class State(TypedDict):\n",
    "    value: str  # The state contains a single field 'value' which is a string\n",
    "\n",
    "# Define the first node in the state machine\n",
    "def node_a(state: State): \n",
    "    print(\"Node A\")  # Log the current node\n",
    "    return Command(\n",
    "        goto=\"node_b\",  # Transition to 'node_b'\n",
    "        update={\n",
    "            \"value\": state[\"value\"] + \"a\"  # Append 'a' to the state's 'value' field\n",
    "        }\n",
    "    )\n",
    "\n",
    "# Define the second node in the state machine\n",
    "def node_b(state: State): \n",
    "    print(\"Node B\")  # Log the current node\n",
    "\n",
    "    # Interrupt to get human input\n",
    "    human_response = interrupt(\"Do you want to go to C or D? Type C/D\")\n",
    "\n",
    "    print(\"Human Review Values: \", human_response)  # Log the human response\n",
    "    \n",
    "    if(human_response == \"C\"): \n",
    "        return Command(\n",
    "            goto=\"node_c\",  # Transition to 'node_c'\n",
    "            update={\n",
    "                \"value\": state[\"value\"] + \"b\"  # Append 'b' to the state's 'value' field\n",
    "            }\n",
    "        ) \n",
    "    elif(human_response == \"D\"): \n",
    "        return Command(\n",
    "            goto=\"node_d\",  # Transition to 'node_d'\n",
    "            update={\n",
    "                \"value\": state[\"value\"] + \"b\"  # Append 'b' to the state's 'value' field\n",
    "            }\n",
    "        )\n",
    "\n",
    "# Define the third node in the state machine\n",
    "def node_c(state: State): \n",
    "    print(\"Node C\")  # Log the current node\n",
    "    return Command(\n",
    "        goto=END,  # Transition to the END state\n",
    "        update={\n",
    "            \"value\": state[\"value\"] + \"c\"  # Append 'c' to the state's 'value' field\n",
    "        }\n",
    "    )\n",
    "\n",
    "# Define the fourth node in the state machine\n",
    "def node_d(state: State): \n",
    "    print(\"Node D\")  # Log the current node\n",
    "    return Command(\n",
    "        goto=END,  # Transition to the END state\n",
    "        update={\n",
    "            \"value\": state[\"value\"] + \"d\"  # Append 'd' to the state's 'value' field\n",
    "        }\n",
    ")\n",
    "\n",
    "# Create a state graph to manage the workflow\n",
    "graph = StateGraph(State)\n",
    "\n",
    "# Add nodes to the state graph, each representing a state and its associated function\n",
    "graph.add_node(\"node_a\", node_a)\n",
    "graph.add_node(\"node_b\", node_b)\n",
    "graph.add_node(\"node_c\", node_c)\n",
    "graph.add_node(\"node_d\", node_d)\n",
    "\n",
    "# Set the entry point of the state graph\n",
    "graph.set_entry_point(\"node_a\") \n",
    "\n",
    "# Compile the state graph into an executable application with checkpointing\n",
    "app = graph.compile(checkpointer=memory)\n",
    "\n",
    "# Define the configuration for the application\n",
    "config = {\"configurable\": {\"thread_id\": \"1\"}}\n",
    "\n",
    "# Define the initial state\n",
    "initialState = {\n",
    "    \"value\": \"\"  # Start with an empty 'value' field\n",
    "}\n",
    "\n",
    "# Invoke the application with the initial state and configuration\n",
    "first_result = app.invoke(initialState, config, stream_mode=\"updates\")\n",
    "first_result\n"
   ]
  },
  {
   "cell_type": "code",
   "execution_count": null,
   "metadata": {},
   "outputs": [
    {
     "name": "stdout",
     "output_type": "stream",
     "text": [
      "('node_b',)\n"
     ]
    }
   ],
   "source": [
    "# Print the next state in the application\n",
    "print(app.get_state(config).next)\n"
   ]
  },
  {
   "cell_type": "code",
   "execution_count": null,
   "metadata": {},
   "outputs": [
    {
     "data": {
      "text/plain": [
       "[]"
      ]
     },
     "execution_count": 20,
     "metadata": {},
     "output_type": "execute_result"
    }
   ],
   "source": [
    "# Resume the application from a specific state and invoke the next steps\n",
    "second_result = app.invoke(Command(resume=\"C\"), config=config, stream_mode=\"updates\")\n",
    "second_result"
   ]
  },
  {
   "cell_type": "code",
   "execution_count": null,
   "metadata": {},
   "outputs": [],
   "source": [
    "# Placeholder for additional logic or results"
   ]
  }
 ],
 "metadata": {
  "kernelspec": {
   "display_name": "venv",
   "language": "python",
   "name": "python3"
  },
  "language_info": {
   "codemirror_mode": {
    "name": "ipython",
    "version": 3
   },
   "file_extension": ".py",
   "mimetype": "text/x-python",
   "name": "python",
   "nbconvert_exporter": "python",
   "pygments_lexer": "ipython3",
   "version": "3.12.0"
  }
 },
 "nbformat": 4,
 "nbformat_minor": 2
}
